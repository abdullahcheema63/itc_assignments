{
 "cells": [
  {
   "cell_type": "code",
   "execution_count": 3,
   "metadata": {
    "collapsed": false
   },
   "outputs": [
    {
     "name": "stdout",
     "output_type": "stream",
     "text": [
      "span\n"
     ]
    }
   ],
   "source": [
    "#question1\n",
    "v1=[]\n",
    "v2=[]\n",
    "v3=[]\n",
    "v4=[]\n",
    "v1_count=0\n",
    "while v1_count<3:\n",
    "    v1.append(input(\"please enter v1: \"))\n",
    "    v1_count+=1\n",
    "v2_count=0\n",
    "while v2_count<3:\n",
    "    v2.append(input(\"please enter v2: \"))\n",
    "    v2_count+=1\n",
    "v3_count=0\n",
    "while v3_count<3:\n",
    "    v3.append(input(\"please enter v1\"))\n",
    "    v3_count+=1\n",
    "v4_count=0\n",
    "while v4_count<3:\n",
    "    v4.append(input(\"please enter v1\"))\n",
    "    v4_count+=1\n",
    "\n",
    "k1=-5000\n",
    "k2=-5000\n",
    "k3=-5000\n",
    "k4=-5000\n",
    "while k4<=5000:\n",
    "    k3=5000\n",
    "    while k3<=5000:\n",
    "        k2=-5000\n",
    "        while k2<=5000:\n",
    "            k1=-5000\n",
    "            while k1<=5000:\n",
    "                if (k1*v1[0])+(k2**v2[0])+(k3*v3[0])+(k4*v4[0]==0):\n",
    "                    if (k1*v1[1])+(k2**v2[1])+(k3*v3[1])+(k4*v4[1]==0):\n",
    "                        if (k1*v1[2])+(k2*v2[2])+(k3*v3[2])+(k4*v4[2]==0):\n",
    "                            out=\"span\"\n",
    "                            break\n",
    "                    else:\n",
    "                        out=\"does not span\"\n",
    "                        continue\n",
    "                else:\n",
    "                    out=\"doesnot span\"\n",
    "                    continue\n",
    "                k1+=1\n",
    "            k2+=1\n",
    "        k3+=1\n",
    "    k4+=1\n",
    "print out"
   ]
  },
  {
   "cell_type": "code",
   "execution_count": null,
   "metadata": {
    "collapsed": false
   },
   "outputs": [],
   "source": [
    "#question_2\n",
    "originalList=[2,-16,2,0,-5,1]\n",
    "index=0\n",
    "filteredList=[]\n",
    "while index<len(originalList):\n",
    "    if originalList[index]>=0:\n",
    "        filteredList.append(originalList[index])\n",
    "    index+=1\n",
    "print filteredList"
   ]
  },
  {
   "cell_type": "code",
   "execution_count": null,
   "metadata": {
    "collapsed": false
   },
   "outputs": [],
   "source": [
    "#question_3\n",
    "listOriginal=[2,1,10,4,3,6,7,9,8,5]\n",
    "listShiifted=[0,0,0,0,0,0,0,0,0,0]\n",
    "i=0\n",
    "while i<len(listOriginal):\n",
    "    j=i+1\n",
    "    if i==len(listOriginal)-1:\n",
    "        j=0\n",
    "    listShiifted[j]=listOriginal[i]\n",
    "    i+=1\n",
    "listOriginal=listShiifted\n",
    "print listOriginal"
   ]
  },
  {
   "cell_type": "code",
   "execution_count": null,
   "metadata": {
    "collapsed": false
   },
   "outputs": [],
   "source": [
    "#question_4\n",
    "def balance():\n",
    "    even=0\n",
    "    odd=0\n",
    "    listA=[5,1,0,2,11]\n",
    "    i=0\n",
    "    if len(listA)==0:\n",
    "        return True\n",
    "    while i<len(listA):\n",
    "        if listA[i]%2==0:\n",
    "            even+=1\n",
    "        if listA[i]%2!=0:\n",
    "            odd+=1\n",
    "        i+=1\n",
    "    if even==odd:\n",
    "        return True\n",
    "    return False\n",
    "balance()"
   ]
  },
  {
   "cell_type": "code",
   "execution_count": null,
   "metadata": {
    "collapsed": false
   },
   "outputs": [],
   "source": [
    "#question5\n",
    "listA=[2,3,7,45,55,22,8,2,5]\n",
    "listB=listA\n",
    "i=0\n",
    "while i<len(listA):\n",
    "    if listB.pop(i) in listA:\n",
    "        out= \"True\"\n",
    "    else:\n",
    "        out= \"false\"\n",
    "    i+=1\n",
    "print out\n"
   ]
  },
  {
   "cell_type": "code",
   "execution_count": null,
   "metadata": {
    "collapsed": false
   },
   "outputs": [],
   "source": [
    "#question_6\n",
    "string=raw_input()\n",
    "index=0\n",
    "count=0\n",
    "largest_count=0\n",
    "last_count=0\n",
    "string+=\"  \"\n",
    "while index<len(string):\n",
    "    count+=1\n",
    "    if largest_count<last_count:\n",
    "        largest_count=last_count-1\n",
    "        ending_index=index-1\n",
    "    if string[index]==\" \":\n",
    "        last_count=count\n",
    "        count=0\n",
    "        index+=1\n",
    "        continue\n",
    "    index+=1\n",
    "starting_index=ending_index-largest_count\n",
    "print \"largest substring is \" +string[starting_index:ending_index]"
   ]
  },
  {
   "cell_type": "code",
   "execution_count": null,
   "metadata": {
    "collapsed": false
   },
   "outputs": [],
   "source": [
    "#question7\n",
    "string=raw_input()\n",
    "index=0\n",
    "vowels=0\n",
    "while index<len(string):\n",
    "    if string[index] in \"aeiou\":\n",
    "        vowels+=1\n",
    "    index+=1\n",
    "print \"number of vowels: \"+str(vowels)"
   ]
  },
  {
   "cell_type": "code",
   "execution_count": null,
   "metadata": {
    "collapsed": false
   },
   "outputs": [],
   "source": [
    "#question_8\n",
    "string=raw_input()\n",
    "bobs=0\n",
    "index=0\n",
    "while index<len(string):\n",
    "    if string[index]==\"b\" and string[index-1]==\"o\" and string[index-2]==\"b\":\n",
    "        bobs+=1\n",
    "    index+=1\n",
    "print bobs"
   ]
  },
  {
   "cell_type": "code",
   "execution_count": null,
   "metadata": {
    "collapsed": false
   },
   "outputs": [],
   "source": [
    "#question9\n",
    "def listEquality(listA,listB):\n",
    "    index=0\n",
    "    if len(listA)!=len(listB):\n",
    "        return False\n",
    "    while index<len(listA):\n",
    "        if listA[index]!=listB[index]:\n",
    "            return False\n",
    "        index+=1\n",
    "    return True\n",
    "listEquality(raw_input(),raw_input())"
   ]
  },
  {
   "cell_type": "code",
   "execution_count": null,
   "metadata": {
    "collapsed": false
   },
   "outputs": [],
   "source": [
    "#question10\n",
    "listA=[27,15,15,11,27,9,13,45,22,78,13,9]\n",
    "index=0\n",
    "while index<=len(listA):\n",
    "    index=0\n",
    "    element=listA[index]\n",
    "    count=listA.count(element)\n",
    "    print str(element)+\" occures \"+str(count)+\" times\"\n",
    "    while element in listA:\n",
    "        listA.remove(element)\n",
    "    index+=1"
   ]
  },
  {
   "cell_type": "code",
   "execution_count": null,
   "metadata": {
    "collapsed": false
   },
   "outputs": [],
   "source": [
    "#question 11\n",
    "listA=[27,15,15,11,27,9,13,45,22,78,13,9]\n",
    "index=0\n",
    "smallest_element=0\n",
    "largest_count=0\n",
    "while index<=len(listA):\n",
    "    index=0\n",
    "    element=listA[index]\n",
    "    count=listA.count(element)\n",
    "    if count==largest_count and smallest_element>element:\n",
    "        smallest_element=element\n",
    "    if count>largest_count:\n",
    "        smallest_element=element\n",
    "        largest_count=count\n",
    "    while element in listA:\n",
    "        listA.remove(element)\n",
    "    index+=1\n",
    "print str(smallest_element)+\" occurs \"+str(largest_count)+\" times\""
   ]
  },
  {
   "cell_type": "code",
   "execution_count": null,
   "metadata": {
    "collapsed": false
   },
   "outputs": [],
   "source": [
    "#question 12\n",
    "def permutation():\n",
    "    listA=[27,15,15,11,27,9,13,45,22,78,13,9]\n",
    "    listB=[27,15,9]\n",
    "    index=0\n",
    "    while index<len(listB):\n",
    "        if listB[index] not in listA:\n",
    "            return False\n",
    "        \n",
    "        index+=1\n",
    "    return True\n",
    "permutation()"
   ]
  }
 ],
 "metadata": {
  "anaconda-cloud": {},
  "kernelspec": {
   "display_name": "Python [Root]",
   "language": "python",
   "name": "Python [Root]"
  },
  "language_info": {
   "codemirror_mode": {
    "name": "ipython",
    "version": 2
   },
   "file_extension": ".py",
   "mimetype": "text/x-python",
   "name": "python",
   "nbconvert_exporter": "python",
   "pygments_lexer": "ipython2",
   "version": "2.7.12"
  }
 },
 "nbformat": 4,
 "nbformat_minor": 1
}
