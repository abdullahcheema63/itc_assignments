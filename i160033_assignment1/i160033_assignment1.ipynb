{
 "cells": [
  {
   "cell_type": "code",
   "execution_count": 1,
   "metadata": {
    "collapsed": false
   },
   "outputs": [
    {
     "name": "stdout",
     "output_type": "stream",
     "text": [
      "! ! ! ! ! ! ! ! ! ! ! ! ! ! ! ! ! ! ! ! ! ! \n",
      "\\ \\ ! ! ! ! ! ! ! ! ! ! ! ! ! ! ! ! ! ! / / \n",
      "\\ \\ \\ \\ ! ! ! ! ! ! ! ! ! ! ! ! ! ! / / / / \n",
      "\\ \\ \\ \\ \\ \\ ! ! ! ! ! ! ! ! ! ! / / / / / / \n",
      "\\ \\ \\ \\ \\ \\ \\ \\ ! ! ! ! ! ! / / / / / / / / \n",
      "\\ \\ \\ \\ \\ \\ \\ \\ \\ \\ ! ! / / / / / / / / / / \n"
     ]
    }
   ],
   "source": [
    "#question_3\n",
    "exclaimation=22\n",
    "backslash=0\n",
    "forwardslash=0\n",
    "while exclaimation>=2:\n",
    "    print_backslash=backslash\n",
    "    while print_backslash>0:\n",
    "        print\"\\\\\",\n",
    "        print_backslash-=1\n",
    "    print_exclaimation=exclaimation\n",
    "    while print_exclaimation>0:\n",
    "        print \"!\",\n",
    "        print_exclaimation-=1\n",
    "    print_forwardslash=forwardslash\n",
    "    while print_forwardslash>0:\n",
    "        print\"/\",\n",
    "        print_forwardslash-=1\n",
    "    #print ((backslash*\"\\\\\")+(exclaimation*\"!\")+(forwardslash*\"/\"))\n",
    "    exclaimation-=4\n",
    "    backslash+=2\n",
    "    forwardslash+=2\n",
    "    print\"\\n\","
   ]
  },
  {
   "cell_type": "code",
   "execution_count": 2,
   "metadata": {
    "collapsed": false,
    "scrolled": true
   },
   "outputs": [
    {
     "name": "stdout",
     "output_type": "stream",
     "text": [
      "enter s0: 2\n",
      "enter v0: 2\n",
      "enter t: 2\n",
      "enter a: 2\n",
      "10.0\n"
     ]
    }
   ],
   "source": [
    "#question_4\n",
    "s0=float(input(\"enter s0: \"))\n",
    "v0=float(input(\"enter v0: \"))\n",
    "t=float(input(\"enter t: \"))\n",
    "a=float(input(\"enter a: \"))\n",
    "acceleration_part=float((0.5*(a*(t**2))))\n",
    "velocity_part=float(v0*t)\n",
    "result=s0+velocity_part+acc2eleration_part\n",
    "print result"
   ]
  },
  {
   "cell_type": "code",
   "execution_count": null,
   "metadata": {
    "collapsed": false
   },
   "outputs": [],
   "source": [
    "#question_5\n",
    "count=1\n",
    "while count<=10:\n",
    "    print (str(count**2)+\",\"),\n",
    "    count+=1"
   ]
  },
  {
   "cell_type": "code",
   "execution_count": 3,
   "metadata": {
    "collapsed": false
   },
   "outputs": [
    {
     "name": "stdout",
     "output_type": "stream",
     "text": [
      "          5 \n",
      "        4 \n",
      "      3 \n",
      "    2 \n",
      "  1 \n"
     ]
    }
   ],
   "source": [
    "#question_6\n",
    "count=5\n",
    "while count>0:\n",
    "    space=count\n",
    "    while space>0:\n",
    "        print \" \",\n",
    "        space-=1\n",
    "    print count,\n",
    "    print \"\\n\",\n",
    "    #print ((\" \"*count)+str(count))\n",
    "    count-=1"
   ]
  },
  {
   "cell_type": "code",
   "execution_count": 4,
   "metadata": {
    "collapsed": false
   },
   "outputs": [
    {
     "name": "stdout",
     "output_type": "stream",
     "text": [
      "    1\n",
      "   22\n",
      "  333\n",
      " 4444\n",
      "55555\n",
      "\n"
     ]
    }
   ],
   "source": [
    "#question_7\n",
    "count=4\n",
    "number=1\n",
    "output=\"\";\n",
    "while count>=0:\n",
    "    space=count\n",
    "    while space>0:\n",
    "        #print \" \",\n",
    "        output+=\" \"\n",
    "        space-=1\n",
    "    number_multiple=number\n",
    "    while number_multiple>0:\n",
    "        output+=str(number)\n",
    "        #print number,\n",
    "        number_multiple-=1\n",
    "    #print ((\" \"*count)+(str(number)*number)),\n",
    "    count-=1\n",
    "    number+=1\n",
    "    #print \"\\n\",\n",
    "    output+=\"\\n\"\n",
    "    \n",
    "print output"
   ]
  },
  {
   "cell_type": "code",
   "execution_count": 5,
   "metadata": {
    "collapsed": false
   },
   "outputs": [
    {
     "name": "stdout",
     "output_type": "stream",
     "text": [
      "_________________________________________\n",
      "_-^-_-^-_-^-_-^-_-^-_-^-_-^-_-^-_-^-_-^-\n",
      "0011223344556677889900112233445566778899\n",
      "_________________________________________\n",
      "\n"
     ]
    }
   ],
   "source": [
    "#question_8\n",
    "output=\"\"\n",
    "top_underscore=0\n",
    "while top_underscore<=40:\n",
    "    output+=\"_\"\n",
    "    #print\"_\",\n",
    "    top_underscore+=1\n",
    "output+=\"\\n\"\n",
    "#print\"\\n\",\n",
    "pattern=0\n",
    "while pattern<=9:\n",
    "    output+=\"_-^-\"\n",
    "    #print \"_-^-\",\n",
    "    pattern+=1\n",
    "output+=\"\\n\"\n",
    "#print \"\\n\"\n",
    "numbers_count=0\n",
    "while numbers_count<2:\n",
    "    numbers=0\n",
    "    while numbers<=9:\n",
    "        output+=str(numbers)+str(numbers)\n",
    "        #print str(numbers)+str(numbers),\n",
    "        numbers+=1\n",
    "    numbers_count+=1\n",
    "output+=\"\\n\"\n",
    "#print \"\\n\",\n",
    "bottom_underscore=0\n",
    "while bottom_underscore<=40:\n",
    "    output+=\"_\"\n",
    "    #print\"_\",\n",
    "    bottom_underscore+=1\n",
    "output+=\"\\n\"\n",
    "print output\n",
    "#print\"\\n\","
   ]
  },
  {
   "cell_type": "code",
   "execution_count": 6,
   "metadata": {
    "collapsed": false
   },
   "outputs": [
    {
     "name": "stdout",
     "output_type": "stream",
     "text": [
      "         |         |\n",
      "12345678901234567890\n"
     ]
    }
   ],
   "source": [
    "#question_9\n",
    "output=\"\"\n",
    "c_space=0\n",
    "while c_space<2:\n",
    "    space=9\n",
    "    while space>0:\n",
    "        output+=\" \"\n",
    "        space-=1\n",
    "    output+=\"|\"\n",
    "    c_space+=1\n",
    "output+=\"\\n\"\n",
    "n_count=0\n",
    "while n_count<2:\n",
    "    number=1\n",
    "    while number<=9:\n",
    "        output+=str(number)\n",
    "        number+=1\n",
    "    output+=\"0\"\n",
    "    n_count+=1\n",
    "print output"
   ]
  },
  {
   "cell_type": "code",
   "execution_count": 7,
   "metadata": {
    "collapsed": false,
    "scrolled": true
   },
   "outputs": [
    {
     "name": "stdout",
     "output_type": "stream",
     "text": [
      "****** //////////// ******\n",
      "*****  //////////\\\\  *****\n",
      "****   ////////\\\\\\\\   ****\n",
      "***    //////\\\\\\\\\\\\    ***\n",
      "**     ////\\\\\\\\\\\\\\\\     **\n",
      "*      //\\\\\\\\\\\\\\\\\\\\      *\n",
      "\n"
     ]
    }
   ],
   "source": [
    "#question_10\n",
    "stars=6\n",
    "space=1\n",
    "backslash=0\n",
    "forwardslash=12\n",
    "output=\"\"\n",
    "while stars>0:\n",
    "    print_stars=stars\n",
    "    while print_stars>0:\n",
    "        output+=\"*\"\n",
    "        #print\"*\",\n",
    "        print_stars-=1\n",
    "    print_space=space\n",
    "    while print_space>0:\n",
    "        output+=\" \"\n",
    "        #print \" \",\n",
    "        print_space-=1\n",
    "    print_forwardslash=forwardslash\n",
    "    while print_forwardslash>0:\n",
    "        output+=\"/\"\n",
    "        #print \"/\",\n",
    "        print_forwardslash-=1\n",
    "    print_backslash=backslash\n",
    "    while print_backslash>0:\n",
    "        output+=\"\\\\\"\n",
    "        #print\"\\\\\",\n",
    "        print_backslash-=1\n",
    "    print_space=space\n",
    "    while print_space>0:\n",
    "        output+=\" \"\n",
    "        #print \" \",\n",
    "        print_space-=1\n",
    "    print_stars=stars\n",
    "    while print_stars>0:\n",
    "        output+=\"*\"\n",
    "        #print\"*\",\n",
    "        print_stars-=1\n",
    "        \n",
    "        \n",
    "    #print ((\"*\"*stars)+(\" \"*space)+(forwardslash*\"/\")+(backslash*\"\\\\\")+(\" \"*space)+(\"*\"*stars))\n",
    "    stars-=1\n",
    "    space+=1\n",
    "    backslash+=2\n",
    "    forwardslash-=2\n",
    "    #print \"\\n\",\n",
    "    output+=\"\\n\"\n",
    "print output"
   ]
  },
  {
   "cell_type": "code",
   "execution_count": 8,
   "metadata": {
    "collapsed": false
   },
   "outputs": [
    {
     "name": "stdout",
     "output_type": "stream",
     "text": [
      "+------+\n",
      "|  ^^  |\n",
      "| ^  ^ |\n",
      "|^    ^|\n",
      "|  ^^  |\n",
      "| ^  ^ |\n",
      "|^    ^|\n",
      "+------+\n",
      "|v    v|\n",
      "| v  v |\n",
      "|  vv  |\n",
      "|v    v|\n",
      "| v  v |\n",
      "|  vv  |\n",
      "+------+\n"
     ]
    }
   ],
   "source": [
    "#question_11 final\n",
    "print_hyphen=6\n",
    "output=\"+\"\n",
    "#print \"+\",\n",
    "while print_hyphen>0:\n",
    "    output+=\"-\"\n",
    "    #print \"-\",\n",
    "    print_hyphen-=1\n",
    "#print \"+\"\n",
    "output+=\"+\\n\"\n",
    "#question_11 d\n",
    "count1=0\n",
    "while count1<2:\n",
    "    #question_11 PART1\n",
    "    space_sides=2\n",
    "    space_between=0\n",
    "    while space_sides>=0:\n",
    "        output+=\"|\"\n",
    "        #print \"|\",\n",
    "        print_space_sides=space_sides\n",
    "        while print_space_sides>0:\n",
    "            output+=\" \"\n",
    "            #print \" \",\n",
    "            print_space_sides-=1\n",
    "        output+=\"^\"\n",
    "        #print \"^\",\n",
    "        print_space_between=space_between\n",
    "        while print_space_between>0:\n",
    "            output+=\" \"\n",
    "            #print \" \",\n",
    "            print_space_between-=1\n",
    "        output+=\"^\"\n",
    "        #print \"^\",\n",
    "        print_space_sides=space_sides\n",
    "        while print_space_sides>0:\n",
    "            output+=\" \"\n",
    "            #print \" \",\n",
    "            print_space_sides-=1\n",
    "        output+=\"|\"\n",
    "        #print \"|\",\n",
    "        #print (\"|\"+(\" \"*space_sides)+\"^\"+(space_between*\" \")+\"^\"+(space_sides*\" \")+\"|\")\n",
    "        space_sides-=1\n",
    "        space_between+=2\n",
    "        output+=\"\\n\"\n",
    "        #print \"\\n\",\n",
    "\n",
    "    count1+=1\n",
    "print_hyphen=6\n",
    "output+=\"+\"\n",
    "#print \"+\",\n",
    "while print_hyphen>0:\n",
    "    output+=\"-\"\n",
    "    #print \"-\",\n",
    "    print_hyphen-=1\n",
    "output+=\"+\\n\"\n",
    "#print \"+\"\n",
    "\n",
    "#question_11 parte\n",
    "count2=0\n",
    "while count2<2:\n",
    "    #question_11 PART2\n",
    "    space_sides=0\n",
    "    space_between=4\n",
    "    while space_between>=0:\n",
    "        output+=\"|\"\n",
    "        #print \"|\",\n",
    "        print_space_sides=space_sides\n",
    "        while print_space_sides>0:\n",
    "            output+=\" \"\n",
    "            #print \" \",\n",
    "            print_space_sides-=1\n",
    "        output+=\"v\"\n",
    "        #print \"v\",\n",
    "        print_space_between=space_between\n",
    "        while print_space_between>0:\n",
    "            output+=\" \"\n",
    "            #print \" \",\n",
    "            print_space_between-=1\n",
    "        output+=\"v\"\n",
    "        #print \"v\",\n",
    "        print_space_sides=space_sides\n",
    "        while print_space_sides>0:\n",
    "            output+=\" \"\n",
    "            #print \" \",\n",
    "            print_space_sides-=1\n",
    "        output+=\"|\"\n",
    "        #print \"|\",\n",
    "\n",
    "\n",
    "        #print (\"|\"+(\" \"*space_sides)+\"v\"+(space_between*\" \")+\"v\"+(space_sides*\" \")+\"|\"),\n",
    "        space_sides+=1\n",
    "        space_between-=2\n",
    "        output+=\"\\n\"\n",
    "        #print \"\\n\",\n",
    "    count2+=1\n",
    "    \n",
    "\n",
    "print_hyphen=6\n",
    "output+=\"+\"\n",
    "#print \"+\",\n",
    "while print_hyphen>0:\n",
    "    output+=\"-\"\n",
    "    #print \"-\",\n",
    "    print_hyphen-=1\n",
    "output+=\"+\"\n",
    "#print \"+\"\n",
    "print output"
   ]
  },
  {
   "cell_type": "code",
   "execution_count": 9,
   "metadata": {
    "collapsed": false
   },
   "outputs": [
    {
     "name": "stdout",
     "output_type": "stream",
     "text": [
      "+-------+\n",
      "    *    \n",
      "   /*\\   \n",
      "  //*\\\\  \n",
      " ///*\\\\\\ \n",
      " \\\\\\*/// \n",
      "  \\\\*//  \n",
      "   \\*/   \n",
      "    *    \n",
      "+-------+\n",
      " \\\\\\*/// \n",
      "  \\\\*//  \n",
      "   \\*/   \n",
      "    *    \n",
      "    *    \n",
      "   /*\\   \n",
      "  //*\\\\  \n",
      " ///*\\\\\\ \n",
      "+-------+\n",
      "\n"
     ]
    }
   ],
   "source": [
    "#question_12\n",
    "#first straight line string\n",
    "print_hyphen=7\n",
    "output=\"+\"\n",
    "#print \"+\",\n",
    "while print_hyphen>0:\n",
    "    output+=\"-\"\n",
    "    #print \"-\",\n",
    "    print_hyphen-=1\n",
    "#print \"+\"\n",
    "output+=\"+\\n\"\n",
    "\n",
    "#pattern1\n",
    "space=4\n",
    "forwardslash=0\n",
    "backslash=0\n",
    "while space>0:\n",
    "    print_space=space\n",
    "    while print_space>0:\n",
    "        output+=\" \"\n",
    "        #print \" \",\n",
    "        print_space-=1\n",
    "    print_forwardslash=forwardslash\n",
    "    while print_forwardslash>0:\n",
    "        output+=\"/\"\n",
    "        #print\"/\",\n",
    "        print_forwardslash-=1\n",
    "    output+=\"*\"\n",
    "    #print \"*\",\n",
    "    print_backslash=backslash\n",
    "    while print_backslash>0:\n",
    "        output+=\"\\\\\"\n",
    "        #print \"\\\\\",\n",
    "        print_backslash-=1\n",
    "    print_space=space\n",
    "    while print_space>0:\n",
    "        output+=\" \"\n",
    "        #print \" \",\n",
    "        print_space-=1\n",
    "    #print ((\" \"*space)+(\"/\"*forwardslash)+\"*\"+(\"\\\\\"*backslash)+(\" \"*space))\n",
    "    space-=1\n",
    "    backslash+=1\n",
    "    forwardslash+=1\n",
    "    output+=\"\\n\"\n",
    "    #print \"\\n\",\n",
    "#pattern2\n",
    "space=1\n",
    "forwardslash=3\n",
    "backslash=3\n",
    "while space<5:\n",
    "    print_space=space\n",
    "    while print_space>0:\n",
    "        output+=\" \"\n",
    "        #print \" \",\n",
    "        print_space-=1\n",
    "    print_backslash=backslash\n",
    "    while print_backslash>0:\n",
    "        output+=\"\\\\\"\n",
    "        #print \"\\\\\",\n",
    "        print_backslash-=1\n",
    "    output+=\"*\"\n",
    "    #print \"*\",\n",
    "    print_forwardslash=forwardslash\n",
    "    while print_forwardslash>0:\n",
    "        output+=\"/\"\n",
    "        #print\"/\",\n",
    "        print_forwardslash-=1\n",
    "    \n",
    "    print_space=space\n",
    "    while print_space>0:\n",
    "        output+=\" \"\n",
    "        #print \" \",\n",
    "        print_space-=1\n",
    "    #print ((\" \"*space)+(\"/\"*forwardslash)+\"*\"+(\"\\\\\"*backslash)+(\" \"*space))\n",
    "    space+=1\n",
    "    backslash-=1\n",
    "    forwardslash-=1\n",
    "    output+=\"\\n\"\n",
    "    #print \"\\n\",\n",
    "\n",
    "#second straight line string\n",
    "print_hyphen=7\n",
    "output+=\"+\"\n",
    "#print \"+\",\n",
    "while print_hyphen>0:\n",
    "    output+=\"-\"\n",
    "    #print \"-\",\n",
    "    print_hyphen-=1\n",
    "#print \"+\"\n",
    "output+=\"+\\n\"\n",
    "#pattern2\n",
    "space=1\n",
    "forwardslash=3\n",
    "backslash=3\n",
    "while space<5:\n",
    "    print_space=space\n",
    "    while print_space>0:\n",
    "        output+=\" \"\n",
    "        #print \" \",\n",
    "        print_space-=1\n",
    "    print_backslash=backslash\n",
    "    while print_backslash>0:\n",
    "        output+=\"\\\\\"\n",
    "        #print \"\\\\\",\n",
    "        print_backslash-=1\n",
    "    output+=\"*\"\n",
    "    #print \"*\",\n",
    "    print_forwardslash=forwardslash\n",
    "    while print_forwardslash>0:\n",
    "        output+=\"/\"\n",
    "        #print\"/\",\n",
    "        print_forwardslash-=1\n",
    "    \n",
    "    print_space=space\n",
    "    while print_space>0:\n",
    "        output+=\" \"\n",
    "        #print \" \",\n",
    "        print_space-=1\n",
    "    #print ((\" \"*space)+(\"/\"*forwardslash)+\"*\"+(\"\\\\\"*backslash)+(\" \"*space))\n",
    "    space+=1\n",
    "    backslash-=1\n",
    "    forwardslash-=1\n",
    "    output+=\"\\n\"\n",
    "    #print \"\\n\",\n",
    "\n",
    "#pattern1\n",
    "space=4\n",
    "forwardslash=0\n",
    "backslash=0\n",
    "while space>0:\n",
    "    print_space=space\n",
    "    while print_space>0:\n",
    "        output+=\" \"\n",
    "        #print \" \",\n",
    "        print_space-=1\n",
    "    print_forwardslash=forwardslash\n",
    "    while print_forwardslash>0:\n",
    "        output+=\"/\"\n",
    "        #print\"/\",\n",
    "        print_forwardslash-=1\n",
    "    output+=\"*\"\n",
    "    #print \"*\",\n",
    "    print_backslash=backslash\n",
    "    while print_backslash>0:\n",
    "        output+=\"\\\\\"\n",
    "        #print \"\\\\\",\n",
    "        print_backslash-=1\n",
    "    print_space=space\n",
    "    while print_space>0:\n",
    "        output+=\" \"\n",
    "        #print \" \",\n",
    "        print_space-=1\n",
    "    #print ((\" \"*space)+(\"/\"*forwardslash)+\"*\"+(\"\\\\\"*backslash)+(\" \"*space))\n",
    "    space-=1\n",
    "    backslash+=1\n",
    "    forwardslash+=1\n",
    "    output+=\"\\n\"\n",
    "    #print \"\\n\",\n",
    "\n",
    "\n",
    "#third straight line string\n",
    "print_hyphen=7\n",
    "output+=\"+\"\n",
    "#print \"+\",\n",
    "while print_hyphen>0:\n",
    "    output+=\"-\"\n",
    "    #print \"-\",\n",
    "    print_hyphen-=1\n",
    "#print \"+\"\n",
    "output+=\"+\\n\"\n",
    "#print all\n",
    "print output"
   ]
  },
  {
   "cell_type": "code",
   "execution_count": 13,
   "metadata": {
    "collapsed": false
   },
   "outputs": [
    {
     "name": "stdout",
     "output_type": "stream",
     "text": [
      "0\n"
     ]
    }
   ],
   "source": [
    "#question_13\n",
    "x=0\n",
    "y=0\n",
    "function=((1-x)**2)+(100*((y-(x**2))**2))\n",
    "\n",
    "minimum=999999999\n",
    "while y<1000:\n",
    "    while x<1000:\n",
    "        function=((1-x)**2)+(100*((y-(x**2))**2))\n",
    "        if function<minimum:\n",
    "            minimum=function\n",
    "        x+=1\n",
    "    y+=1\n",
    "    x=0\n",
    "print minimum"
   ]
  },
  {
   "cell_type": "code",
   "execution_count": 2,
   "metadata": {
    "collapsed": false
   },
   "outputs": [
    {
     "name": "stdout",
     "output_type": "stream",
     "text": [
      "4,1,16,9,36,25,64,49,100,81,144,121,196,169,256,225,324,289,400,361,\n"
     ]
    }
   ],
   "source": [
    "#question_14\n",
    "series_1=2\n",
    "series_2=1\n",
    "count=1\n",
    "out=\"\"\n",
    "while count<=10:\n",
    "    out+=(str(series_1**2)+\",\"+str(series_2**2)+\",\")\n",
    "    count+=1\n",
    "    series_1+=2\n",
    "    series_2+=2\n",
    "print out"
   ]
  },
  {
   "cell_type": "code",
   "execution_count": null,
   "metadata": {
    "collapsed": false
   },
   "outputs": [],
   "source": [
    "#question_15\n",
    "\n",
    "#seperating dd mm and yy\n",
    "name1=raw_input(\"please enter first name: \")\n",
    "name2=raw_input(\"please enter second name: \")\n",
    "age1=input(\"please enter \"+name1+\"'s age in YYMMDD\")\n",
    "age2=input(\"please enter \"+name2+\"'s agein YYMMDD\")\n",
    "age1_yy=age1/10000\n",
    "age1_mm=(age1/100)%100\n",
    "age1_dd=age1%100\n",
    "age2_yy=age2/10000\n",
    "age2_mm=(age2/100)%100\n",
    "age2_dd=age2%100\n",
    "\n",
    "#printing age\n",
    "print (name1+\"'s age is \"+str(age1_dd)+\"/\"+str(age1_mm)+\"/\"+str(age1_yy))\n",
    "print (name2+\"'s age is \"+str(age2_dd)+\"/\"+str(age2_mm)+\"/\"+str(age2_yy))\n",
    "\n",
    "#checking age\n",
    "if age1_yy>age2_yy:\n",
    "    print (name1+\" is older then \"+name2)\n",
    "elif age2_yy>age1_yy:\n",
    "    print (name2+\" is older then \"+name1)\n",
    "elif age1_yy==age2_yy:\n",
    "    if age1_mm>age2_mm:\n",
    "        print (name1+\" is older then \"+name2)\n",
    "    elif age2_mm>age2_mm:\n",
    "        print (name2+\" is older then \"+name1)\n",
    "    elif age1_mm==age2_mm:\n",
    "        if age1_dd>age2_dd:\n",
    "            print (name1+\" is older then \"+name2)\n",
    "        elif age2_dd>age1_dd:\n",
    "            print (name2+\" is older then \"+name1)\n",
    "        elif age1_dd==age2_dd:\n",
    "            print (name1+\" and \"+name2+\" have the same age\")"
   ]
  },
  {
   "cell_type": "code",
   "execution_count": null,
   "metadata": {
    "collapsed": false
   },
   "outputs": [],
   "source": [
    "#question_16\n",
    "import random\n",
    "#random.random()\n",
    "count=3\n",
    "while True:\n",
    "    while count>0:\n",
    "        guess_number=int(random.random()*10)\n",
    "        input_guess=input(\"guess the number: \")\n",
    "        if input_guess<0 or input_guess>10:\n",
    "            print(\"please enter values between 0 and 10: \")\n",
    "            continue\n",
    "        if input_guess==guess_number:\n",
    "            print \"you win\"\n",
    "            break\n",
    "        count-=1\n",
    "        print (\"you have \"+str(count)+\" tries remaining\")\n",
    "    prompt=raw_input(\"enter yes to play again: \")\n",
    "    if prompt==\"yes\":\n",
    "        count=3\n",
    "        continue\n",
    "    elif prompt==\"no\":\n",
    "        break\n",
    "    elif (prompt!=\"yes\")or (prompt!=\"no\"):\n",
    "        print \"please enter yes or no\"\n",
    "        continue\n",
    "        \n",
    "    "
   ]
  },
  {
   "cell_type": "code",
   "execution_count": 1,
   "metadata": {
    "collapsed": false
   },
   "outputs": [
    {
     "name": "stdout",
     "output_type": "stream",
     "text": [
      "101000\n",
      "40\n"
     ]
    }
   ],
   "source": [
    "#question_17\n",
    "binary=raw_input()\n",
    "index=0\n",
    "result=0\n",
    "power=len(binary)-1\n",
    "while index<len(binary):\n",
    "    result+=int(binary[index])*(2**power)\n",
    "    index+=1\n",
    "    power-=1\n",
    "print result"
   ]
  },
  {
   "cell_type": "code",
   "execution_count": 3,
   "metadata": {
    "collapsed": false
   },
   "outputs": [
    {
     "name": "stdout",
     "output_type": "stream",
     "text": [
      "please enter grade: 4\n",
      "do you have annother sibblings: yes\n",
      "please enter grade: 2\n",
      "do you have annother sibblings: yes\n",
      "please enter grade: 2\n",
      "do you have annother sibblings: no\n",
      "53891.125\n"
     ]
    }
   ],
   "source": [
    "#question_18\n",
    "fee=7000\n",
    "stationary_charges=10000\n",
    "materials_cost=6000\n",
    "final_payment=0\n",
    "sibblings=\"\"\n",
    "while True:\n",
    "    grade=input(\"please enter grade: \")-1\n",
    "    if sibblings==\"yes\":\n",
    "        fee-=0.1*fee\n",
    "    while grade>0:\n",
    "        fee+=0.15*fee\n",
    "        materials_cost+=1000\n",
    "        grade-=1\n",
    "    sibblings=raw_input(\"do you have annother sibblings: \")\n",
    "    if sibblings==\"yes\":\n",
    "        final_payment+=stationary_charges+materials_cost+fee\n",
    "        materials_cost=6000\n",
    "        fee=7000\n",
    "        continue\n",
    "    else:\n",
    "        break\n",
    "print final_payment"
   ]
  },
  {
   "cell_type": "code",
   "execution_count": 7,
   "metadata": {
    "collapsed": false
   },
   "outputs": [
    {
     "name": "stdout",
     "output_type": "stream",
     "text": [
      "please enter the number of cheers: 3\n",
      "please enter the number of lines: 10\n",
      "go buddy go  buddy go \n",
      " go buddy go  buddy go \n",
      "  go buddy go  buddy go \n",
      "   go buddy go  buddy go \n",
      "    go buddy go  buddy go \n",
      "     go buddy go  buddy go \n",
      "      go buddy go  buddy go \n",
      "       go buddy go  buddy go \n",
      "        go buddy go  buddy go \n",
      "         go buddy go  buddy go \n",
      "\n"
     ]
    }
   ],
   "source": [
    "#question_19\n",
    "output=\"\"\n",
    "space=0\n",
    "cheers=input(\"please enter the number of cheers: \")\n",
    "lines=input(\"please enter the number of lines: \")\n",
    "while lines>0:\n",
    "    #print ((space*\" \")+\"go\"+(\" buddy go \"*(cheers-1)))\n",
    "    print_space=space\n",
    "    while print_space>0:\n",
    "        output+=\" \"\n",
    "        print_space-=1\n",
    "    output+=\"go\"\n",
    "    print_cheers=cheers-1\n",
    "    while print_cheers>0:\n",
    "        output+= \" buddy go \"\n",
    "        print_cheers-=1\n",
    "    output+=\"\\n\"\n",
    "    lines-=1\n",
    "    space+=1\n",
    "print output"
   ]
  },
  {
   "cell_type": "code",
   "execution_count": null,
   "metadata": {
    "collapsed": false
   },
   "outputs": [],
   "source": [
    "#question_20\n",
    "print \"v\"\n",
    "output=\"\"\n",
    "overall_count=0\n",
    "while overall_count<2:\n",
    "    \n",
    "    count=1\n",
    "    while count<=5:\n",
    "        print_v=count\n",
    "        while print_v>0:\n",
    "            output+=\"v\"\n",
    "            print_v-=1\n",
    "        #print \"v\"*count\n",
    "        count+=1\n",
    "        output+= \"\\n\"\n",
    "    if count==5:\n",
    "        count=4\n",
    "    while count>0:\n",
    "        print_v2=count\n",
    "        while print_v2>0:\n",
    "            output+= \"v\"\n",
    "            print_v2-=1\n",
    "        count-=1\n",
    "        output+=\"\\n\"\n",
    "    output+=\"v\"\n",
    "    overall_count+=1\n",
    "print output"
   ]
  },
  {
   "cell_type": "code",
   "execution_count": 7,
   "metadata": {
    "collapsed": false
   },
   "outputs": [
    {
     "name": "stdout",
     "output_type": "stream",
     "text": [
      "7\n",
      "......1\n",
      ".....2.\n",
      "....3..\n",
      "...4...\n",
      "..5....\n",
      ".6.....\n",
      "7......\n",
      "\n"
     ]
    }
   ],
   "source": [
    "#question_21\n",
    "output=\"\"\n",
    "input_number=input()\n",
    "previous_dots=input_number-1\n",
    "count=1\n",
    "next_dots=0\n",
    "while count<=input_number:\n",
    "    print_previous_dots=previous_dots\n",
    "    while print_previous_dots>0:\n",
    "        output+=\".\"\n",
    "        #print \".\",\n",
    "        print_previous_dots-=1\n",
    "    output+=str(count)\n",
    "    #print count,\n",
    "    print_next_dots=next_dots\n",
    "    while print_next_dots>0:\n",
    "        output+=\".\"\n",
    "        #print \".\",\n",
    "        print_next_dots-=1\n",
    "    output+=\"\\n\"\n",
    "    #print \"\\n\",\n",
    "    #print (\".\"*previous_dots)+str(count)+\".\"*next_dots\n",
    "    count+=1\n",
    "    previous_dots-=1\n",
    "    next_dots+=1\n",
    "print output"
   ]
  },
  {
   "cell_type": "code",
   "execution_count": 8,
   "metadata": {
    "collapsed": false
   },
   "outputs": [
    {
     "name": "stdout",
     "output_type": "stream",
     "text": [
      "enter the number of squares to draw: 2\n",
      "enter width 1: 1\n",
      "enter height1: 2\n",
      "*\n",
      "*\n",
      "\n",
      "enter width 2: 2\n",
      "enter height2: 1\n",
      "**\n",
      "\n",
      "the area of squares is 4\n"
     ]
    }
   ],
   "source": [
    "#question_22\n",
    "while True:\n",
    "    squares=input(\"enter the number of squares to draw: \")\n",
    "    count=1\n",
    "    area=0\n",
    "    if squares<0:\n",
    "        print (\"please enter positive values\")\n",
    "        continue\n",
    "    while count<=squares:\n",
    "        square_output=\"\"\n",
    "        width=input(\"enter width \"+str(count)+\": \")\n",
    "        height=input(\"enter height\"+str(count)+\": \")\n",
    "        if height<0 or width<0:\n",
    "            print(\"please enter positive values\")\n",
    "            continue\n",
    "        area+=height*width\n",
    "        while height>0:\n",
    "            width_multiplication=width\n",
    "            while width_multiplication>0:\n",
    "                square_output+=\"*\"\n",
    "                width_multiplication-=1\n",
    "            square_output+=\"\\n\"\n",
    "            #print(\"*\"*width)\n",
    "            height-=1\n",
    "        count+=1\n",
    "        print square_output\n",
    "\n",
    "    print (\"the area of squares is \"+str(area))\n",
    "    break"
   ]
  },
  {
   "cell_type": "code",
   "execution_count": 6,
   "metadata": {
    "collapsed": false
   },
   "outputs": [
    {
     "name": "stdout",
     "output_type": "stream",
     "text": [
      "enter PAR: 44\n",
      "not convertible\n"
     ]
    }
   ],
   "source": [
    "#question_23\n",
    "n=input(\"enter PAR: \")\n",
    "if (n%20==0)or(n%6==0)or(n%9==0):\n",
    "    print \"convertible\"\n",
    "elif ((n%20)%6==0) or ((n%20)%9==0):\n",
    "    print\"convertible\"\n",
    "elif (((n%20)%6)%9==0) or (((n%20)%9)%6==0):\n",
    "    print \"convertible\"\n",
    "else:\n",
    "    print \"not convertible\"\n",
    "        \n",
    "    "
   ]
  }
 ],
 "metadata": {
  "anaconda-cloud": {},
  "kernelspec": {
   "display_name": "Python [conda root]",
   "language": "python",
   "name": "conda-root-py"
  },
  "language_info": {
   "codemirror_mode": {
    "name": "ipython",
    "version": 2
   },
   "file_extension": ".py",
   "mimetype": "text/x-python",
   "name": "python",
   "nbconvert_exporter": "python",
   "pygments_lexer": "ipython2",
   "version": "2.7.12"
  }
 },
 "nbformat": 4,
 "nbformat_minor": 0
}
